{
  "nbformat": 4,
  "nbformat_minor": 0,
  "metadata": {
    "colab": {
      "name": "maze.ipynb",
      "provenance": [],
      "authorship_tag": "ABX9TyPbXrbliu9tZlNtuVFXf66V",
      "include_colab_link": true
    },
    "kernelspec": {
      "name": "python3",
      "display_name": "Python 3"
    },
    "language_info": {
      "name": "python"
    }
  },
  "cells": [
    {
      "cell_type": "markdown",
      "metadata": {
        "id": "view-in-github",
        "colab_type": "text"
      },
      "source": [
        "<a href=\"https://colab.research.google.com/github/ichi-a00/algorithm/blob/main/maze.ipynb\" target=\"_parent\"><img src=\"https://colab.research.google.com/assets/colab-badge.svg\" alt=\"Open In Colab\"/></a>"
      ]
    },
    {
      "cell_type": "code",
      "execution_count": null,
      "metadata": {
        "id": "zX3RLlM1h9B4"
      },
      "outputs": [],
      "source": [
        ""
      ]
    },
    {
      "cell_type": "markdown",
      "source": [
        "迷路を解くalgorithm\n",
        "参考：https://qiita.com/ophhdn/items/fb10c932d44b18d12656"
      ],
      "metadata": {
        "id": "yym3c-psh_GR"
      }
    },
    {
      "cell_type": "code",
      "source": [
        "\n",
        "\n",
        "MAZE = [\n",
        "    '$$$$$$$$',\n",
        "    '$  $  G$',\n",
        "    '$$   $$$',\n",
        "    '$  $   $',\n",
        "    '$$$$$$$$',\n",
        "]\n",
        "WALL = '$'\n",
        "GOAL = 'G'\n",
        "\n",
        "MAZE = [list(i) for i in MAZE]"
      ],
      "metadata": {
        "id": "hVaaFFyiiCQh"
      },
      "execution_count": null,
      "outputs": []
    },
    {
      "cell_type": "code",
      "source": [
        "def solve(MAZE, y, x):\n",
        "    print(MAZE)\n",
        "    if MAZE[y][x] == GOAL:\n",
        "        print(\"G\")\n",
        "        return [(y, x)]\n",
        "\n",
        "    MAZE[y][x] = WALL\n",
        "\n",
        "    for (next_y, next_x) in [(y+1, x), (y, x+1), (y, x-1), (y-1, x)]:\n",
        "        if MAZE[next_y][next_x] == WALL:\n",
        "            continue\n",
        "        print(\"next:\", next_y, next_x)\n",
        "        route=solve(MAZE, next_y, next_x)\n",
        "        print(\"now\", x, y)\n",
        "        if route:\n",
        "            print(\"add\", x, y)\n",
        "            return [(y, x)] + route\n",
        "\n",
        "\n",
        "solve(MAZE, 3, 6)"
      ],
      "metadata": {
        "colab": {
          "base_uri": "https://localhost:8080/"
        },
        "id": "r97Kfqd1iEvY",
        "outputId": "43d9a932-8cc8-4292-a0ad-d9859a25b160"
      },
      "execution_count": null,
      "outputs": [
        {
          "output_type": "stream",
          "name": "stdout",
          "text": [
            "[['$', '$', '$', '$', '$', '$', '$', '$'], ['$', ' ', ' ', '$', ' ', ' ', 'G', '$'], ['$', '$', ' ', ' ', ' ', '$', '$', '$'], ['$', ' ', ' ', '$', ' ', ' ', ' ', '$'], ['$', '$', '$', '$', '$', '$', '$', '$']]\n",
            "next: 3 5\n",
            "[['$', '$', '$', '$', '$', '$', '$', '$'], ['$', ' ', ' ', '$', ' ', ' ', 'G', '$'], ['$', '$', ' ', ' ', ' ', '$', '$', '$'], ['$', ' ', ' ', '$', ' ', ' ', '$', '$'], ['$', '$', '$', '$', '$', '$', '$', '$']]\n",
            "next: 3 4\n",
            "[['$', '$', '$', '$', '$', '$', '$', '$'], ['$', ' ', ' ', '$', ' ', ' ', 'G', '$'], ['$', '$', ' ', ' ', ' ', '$', '$', '$'], ['$', ' ', ' ', '$', ' ', '$', '$', '$'], ['$', '$', '$', '$', '$', '$', '$', '$']]\n",
            "next: 2 4\n",
            "[['$', '$', '$', '$', '$', '$', '$', '$'], ['$', ' ', ' ', '$', ' ', ' ', 'G', '$'], ['$', '$', ' ', ' ', ' ', '$', '$', '$'], ['$', ' ', ' ', '$', '$', '$', '$', '$'], ['$', '$', '$', '$', '$', '$', '$', '$']]\n",
            "next: 2 3\n",
            "[['$', '$', '$', '$', '$', '$', '$', '$'], ['$', ' ', ' ', '$', ' ', ' ', 'G', '$'], ['$', '$', ' ', ' ', '$', '$', '$', '$'], ['$', ' ', ' ', '$', '$', '$', '$', '$'], ['$', '$', '$', '$', '$', '$', '$', '$']]\n",
            "next: 2 2\n",
            "[['$', '$', '$', '$', '$', '$', '$', '$'], ['$', ' ', ' ', '$', ' ', ' ', 'G', '$'], ['$', '$', ' ', '$', '$', '$', '$', '$'], ['$', ' ', ' ', '$', '$', '$', '$', '$'], ['$', '$', '$', '$', '$', '$', '$', '$']]\n",
            "next: 3 2\n",
            "[['$', '$', '$', '$', '$', '$', '$', '$'], ['$', ' ', ' ', '$', ' ', ' ', 'G', '$'], ['$', '$', '$', '$', '$', '$', '$', '$'], ['$', ' ', ' ', '$', '$', '$', '$', '$'], ['$', '$', '$', '$', '$', '$', '$', '$']]\n",
            "next: 3 1\n",
            "[['$', '$', '$', '$', '$', '$', '$', '$'], ['$', ' ', ' ', '$', ' ', ' ', 'G', '$'], ['$', '$', '$', '$', '$', '$', '$', '$'], ['$', ' ', '$', '$', '$', '$', '$', '$'], ['$', '$', '$', '$', '$', '$', '$', '$']]\n",
            "now 2 3\n",
            "now 2 2\n",
            "next: 1 2\n",
            "[['$', '$', '$', '$', '$', '$', '$', '$'], ['$', ' ', ' ', '$', ' ', ' ', 'G', '$'], ['$', '$', '$', '$', '$', '$', '$', '$'], ['$', '$', '$', '$', '$', '$', '$', '$'], ['$', '$', '$', '$', '$', '$', '$', '$']]\n",
            "next: 1 1\n",
            "[['$', '$', '$', '$', '$', '$', '$', '$'], ['$', ' ', '$', '$', ' ', ' ', 'G', '$'], ['$', '$', '$', '$', '$', '$', '$', '$'], ['$', '$', '$', '$', '$', '$', '$', '$'], ['$', '$', '$', '$', '$', '$', '$', '$']]\n",
            "now 2 1\n",
            "now 2 2\n",
            "now 3 2\n",
            "now 4 2\n",
            "next: 1 4\n",
            "[['$', '$', '$', '$', '$', '$', '$', '$'], ['$', '$', '$', '$', ' ', ' ', 'G', '$'], ['$', '$', '$', '$', '$', '$', '$', '$'], ['$', '$', '$', '$', '$', '$', '$', '$'], ['$', '$', '$', '$', '$', '$', '$', '$']]\n",
            "next: 1 5\n",
            "[['$', '$', '$', '$', '$', '$', '$', '$'], ['$', '$', '$', '$', '$', ' ', 'G', '$'], ['$', '$', '$', '$', '$', '$', '$', '$'], ['$', '$', '$', '$', '$', '$', '$', '$'], ['$', '$', '$', '$', '$', '$', '$', '$']]\n",
            "next: 1 6\n",
            "[['$', '$', '$', '$', '$', '$', '$', '$'], ['$', '$', '$', '$', '$', '$', 'G', '$'], ['$', '$', '$', '$', '$', '$', '$', '$'], ['$', '$', '$', '$', '$', '$', '$', '$'], ['$', '$', '$', '$', '$', '$', '$', '$']]\n",
            "G\n",
            "now 5 1\n",
            "add 5 1\n",
            "now 4 1\n",
            "add 4 1\n",
            "now 4 2\n",
            "add 4 2\n",
            "now 4 3\n",
            "add 4 3\n",
            "now 5 3\n",
            "add 5 3\n",
            "now 6 3\n",
            "add 6 3\n"
          ]
        },
        {
          "output_type": "execute_result",
          "data": {
            "text/plain": [
              "[(3, 6), (3, 5), (3, 4), (2, 4), (1, 4), (1, 5), (1, 6)]"
            ]
          },
          "metadata": {},
          "execution_count": 61
        }
      ]
    },
    {
      "cell_type": "code",
      "source": [
        "MAZE"
      ],
      "metadata": {
        "colab": {
          "base_uri": "https://localhost:8080/"
        },
        "id": "XJHGfTweiIcT",
        "outputId": "1d50ee41-5370-4d8d-e676-72b1bff39a5e"
      },
      "execution_count": null,
      "outputs": [
        {
          "output_type": "execute_result",
          "data": {
            "text/plain": [
              "[['$', '$', '$', '$', '$', '$', '$', '$'],\n",
              " ['$', '$', '$', '$', '$', '$', 'G', '$'],\n",
              " ['$', '$', '$', '$', '$', '$', '$', '$'],\n",
              " ['$', '$', '$', '$', '$', '$', '$', '$'],\n",
              " ['$', '$', '$', '$', '$', '$', '$', '$']]"
            ]
          },
          "metadata": {},
          "execution_count": 62
        }
      ]
    },
    {
      "cell_type": "code",
      "source": [
        ""
      ],
      "metadata": {
        "colab": {
          "base_uri": "https://localhost:8080/"
        },
        "id": "9uqd1FVYiLpi",
        "outputId": "492e85c8-6b47-4c99-cc42-9fda17fce3ae"
      },
      "execution_count": null,
      "outputs": [
        {
          "output_type": "execute_result",
          "data": {
            "text/plain": [
              "['$', '$', '$', '$', '$', '$', '$', '$']"
            ]
          },
          "metadata": {},
          "execution_count": 4
        }
      ]
    },
    {
      "cell_type": "code",
      "source": [
        ""
      ],
      "metadata": {
        "id": "Qi8EASXaiP_r"
      },
      "execution_count": null,
      "outputs": []
    }
  ]
}
